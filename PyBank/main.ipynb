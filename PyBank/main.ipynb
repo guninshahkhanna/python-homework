{
 "cells": [
  {
   "cell_type": "markdown",
   "id": "3d309d4d-95e6-4ed3-a3af-2777c1e2dfbb",
   "metadata": {},
   "source": [
    "# PyBank\n",
    "* In this activity, you are tasked with creating a Python script for analyzing the financial records of your company. You will be provided with a financial dataset in this file: budget_data.csv. This dataset is composed of two columns, Date and Profit/Losses. (Thankfully, your company has rather lax standards for accounting, so the records are simple.)"
   ]
  },
  {
   "cell_type": "code",
   "execution_count": 2,
   "id": "e5919750-b768-41d7-a963-10aa89a36895",
   "metadata": {},
   "outputs": [
    {
     "name": "stdout",
     "output_type": "stream",
     "text": [
      "<class 'str'>\n",
      "0\n"
     ]
    }
   ],
   "source": [
    "# imports\n",
    "import csv\n",
    "from pathlib import Path\n",
    "\n",
    "# collection variable\n",
    "budget_data_collector = []\n",
    "\n",
    "# define csv path\n",
    "csvpath = Path('../PyBank/budget_data.csv')\n",
    "\n",
    "# function definitions\n",
    "def get_total_months(collector_list):\n",
    "    \"\"\"\n",
    "    Returns the length of the given dictionary.\n",
    "    Used in this instance to find the total months (length) \n",
    "    of the budget_data_collector dictionary\n",
    "        Parameters:\n",
    "            collector_dict -> Dictionary\n",
    "        Returns:\n",
    "            Number of months -> Integer (length of input dictionary)\n",
    "    \"\"\"\n",
    "    return len(collector_list)\n",
    "\n",
    "def get_total_pnl(collector_list):\n",
    "    \"\"\"\n",
    "    Returns the sum of the values of each key in\n",
    "    the given dictionary\n",
    "    Uned in this instance to find the sum of the \n",
    "    \"\"\"\n",
    "    return sum(collector_dict.values())\n",
    "\n",
    "def get_average_change(collector_list):\n",
    "    \"\"\"\n",
    "    use previous functions to find average cange\n",
    "    \"\"\"\n",
    "    return get_total_pnl(collector_list)/get_total_months(collector_list)\n",
    "\n",
    "def get_max_incr(collctor_list):\n",
    "    \"\"\"\n",
    "    \"\"\"\n",
    "    return max(collector_list.values())\n",
    "\n",
    "def get_max_decr(collector_list):\n",
    "    \"\"\"\n",
    "    \"\"\"\n",
    "    return min(collector_list.values())\n",
    "\n",
    "def output_function(collector_list):\n",
    "    \"\"\"\n",
    "    \n",
    "    \"\"\"\n",
    "    print(\"Financial Analysis\")\n",
    "    print(\"-\"*30)\n",
    "    print(f\"Total Months: {get_total_months(budget_data_collector)}\")\n",
    "    print(f\"Total: {get_total_pnl(budget_data_collector)}\")\n",
    "    print(f\"Average: {get_average_change(budget_data_collector)}\")\n",
    "    print(f\"Greatest increase in profits: {get_max_incr(budget_data_collector)}\")\n",
    "    print(f\"Total decrease in profits: {get_max_decr(budget_data_collector)}\")\n",
    "    \n",
    "# Reading from csv into collector dictionary\n",
    "with open(csvpath, 'r') as csvfile:\n",
    "\n",
    "    # Pass in the csv file to the csv.reader() function\n",
    "    # (with ',' as the delmiter/separator) and return the csvreader object\n",
    "    csvreader = csv.reader(csvfile, delimiter=',')\n",
    "\n",
    "    # Read the header row first (skip this step if there is no header)\n",
    "    csv_header = next(csvreader)\n",
    "    \n",
    "    # Read each row of the csv file into the dictionary\n",
    "    for row in csvreader:\n",
    "        # only collect the profit/losses as date is not needed for any other one\n",
    "        budget_data_collector.append(row[1])\n",
    "\n",
    "\n",
    "# Output\n",
    "print output_function(budget_data_collector)\n",
    "\n"
   ]
  },
  {
   "cell_type": "code",
   "execution_count": null,
   "id": "ba7ddf56-54d2-479e-bccf-a276815befaa",
   "metadata": {},
   "outputs": [],
   "source": []
  },
  {
   "cell_type": "code",
   "execution_count": null,
   "id": "fbea4be6-7d20-46bb-91eb-bc742c1f45a4",
   "metadata": {},
   "outputs": [],
   "source": []
  },
  {
   "cell_type": "code",
   "execution_count": null,
   "id": "cba16ca6-f8eb-4a6b-8524-605119d41052",
   "metadata": {},
   "outputs": [],
   "source": []
  },
  {
   "cell_type": "code",
   "execution_count": null,
   "id": "f9a54b8e-1ef0-4a48-9867-952e0aee899f",
   "metadata": {},
   "outputs": [],
   "source": []
  },
  {
   "cell_type": "code",
   "execution_count": null,
   "id": "8cbda2b0-0f35-420e-8d55-f7a70af405a2",
   "metadata": {},
   "outputs": [],
   "source": []
  },
  {
   "cell_type": "code",
   "execution_count": null,
   "id": "a4c0bfad-bb26-4929-ab2f-7b385862f92b",
   "metadata": {},
   "outputs": [],
   "source": []
  },
  {
   "cell_type": "code",
   "execution_count": null,
   "id": "644d62d5-7de5-4a83-892e-b4eb9332e06e",
   "metadata": {},
   "outputs": [],
   "source": []
  }
 ],
 "metadata": {
  "kernelspec": {
   "display_name": "Python 3 (ipykernel)",
   "language": "python",
   "name": "python3"
  },
  "language_info": {
   "codemirror_mode": {
    "name": "ipython",
    "version": 3
   },
   "file_extension": ".py",
   "mimetype": "text/x-python",
   "name": "python",
   "nbconvert_exporter": "python",
   "pygments_lexer": "ipython3",
   "version": "3.7.11"
  }
 },
 "nbformat": 4,
 "nbformat_minor": 5
}
