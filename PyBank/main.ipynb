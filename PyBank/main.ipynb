{
 "cells": [
  {
   "cell_type": "markdown",
   "id": "3d309d4d-95e6-4ed3-a3af-2777c1e2dfbb",
   "metadata": {},
   "source": [
    "# PyBank\n",
    "* In this activity, you are tasked with creating a Python script for analyzing the financial records of your company. You will be provided with a financial dataset in this file: budget_data.csv. This dataset is composed of two columns, Date and Profit/Losses. (Thankfully, your company has rather lax standards for accounting, so the records are simple.)"
   ]
  },
  {
   "cell_type": "code",
   "execution_count": 5,
   "id": "e5919750-b768-41d7-a963-10aa89a36895",
   "metadata": {},
   "outputs": [],
   "source": [
    "# imports\n",
    "import csv\n",
    "from pathlib import Path\n",
    "\n",
    "# collection variable\n",
    "budget_data_collector = {}\n",
    "\n",
    "# function definitions\n",
    "def get_total_months(collector_dict):\n",
    "    \"\"\"\n",
    "    Returns the length of the given dictionary.\n",
    "    Used in this instance to find the total months (length) \n",
    "    of the budget_data_collector dictionary\n",
    "        Parameters:\n",
    "            collector_dict -> Dictionary\n",
    "        Returns:\n",
    "            Number of months -> Integer (length of input dictionary)\n",
    "    \"\"\"\n",
    "    return len(collector_dict)\n",
    "\n",
    "def get_total_pnl(collector_dict):\n",
    "    \"\"\"\n",
    "    Returns the sum of the values of each key in\n",
    "    the given dictionary\n",
    "    Uned in this instance to find the sum of the \n",
    "    \"\"\"\n",
    "    return sum(collector_dict.values())\n",
    "\n",
    "def get_average_change(collector_dict):\n",
    "    \"\"\"\n",
    "    use previous functions to find average cange\n",
    "    \"\"\"\n",
    "    return get_total_pnl(collector_dict)/get_total_months(collector_dict)\n",
    "\n",
    "def get_max_incr(collctor_dict):\n",
    "    \"\"\"\n",
    "    \"\"\"\n",
    "    return max(collector_dict.values())\n",
    "\n",
    "def get_max_decr(collector_dict):\n",
    "    \"\"\"\n",
    "    \"\"\"\n",
    "    return min(collector_dict.values())\n",
    "\n",
    "\n",
    "# Reading from csv into collector dictionary\n",
    "\n",
    "\n",
    "# Output\n"
   ]
  },
  {
   "cell_type": "code",
   "execution_count": null,
   "id": "ba7ddf56-54d2-479e-bccf-a276815befaa",
   "metadata": {},
   "outputs": [],
   "source": []
  }
 ],
 "metadata": {
  "kernelspec": {
   "display_name": "Python 3 (ipykernel)",
   "language": "python",
   "name": "python3"
  },
  "language_info": {
   "codemirror_mode": {
    "name": "ipython",
    "version": 3
   },
   "file_extension": ".py",
   "mimetype": "text/x-python",
   "name": "python",
   "nbconvert_exporter": "python",
   "pygments_lexer": "ipython3",
   "version": "3.7.11"
  }
 },
 "nbformat": 4,
 "nbformat_minor": 5
}
